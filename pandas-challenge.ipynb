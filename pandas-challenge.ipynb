{
 "cells": [
  {
   "cell_type": "markdown",
   "metadata": {},
   "source": [
    "### Note\n",
    "* Instructions have been included for each segment. You do not have to follow them exactly, but they are included to help you think through the steps."
   ]
  },
  {
   "cell_type": "code",
   "execution_count": 22,
   "metadata": {},
   "outputs": [
    {
     "data": {
      "text/html": [
       "<div>\n",
       "<style scoped>\n",
       "    .dataframe tbody tr th:only-of-type {\n",
       "        vertical-align: middle;\n",
       "    }\n",
       "\n",
       "    .dataframe tbody tr th {\n",
       "        vertical-align: top;\n",
       "    }\n",
       "\n",
       "    .dataframe thead th {\n",
       "        text-align: right;\n",
       "    }\n",
       "</style>\n",
       "<table border=\"1\" class=\"dataframe\">\n",
       "  <thead>\n",
       "    <tr style=\"text-align: right;\">\n",
       "      <th></th>\n",
       "      <th>Purchase ID</th>\n",
       "      <th>SN</th>\n",
       "      <th>Age</th>\n",
       "      <th>Gender</th>\n",
       "      <th>Item ID</th>\n",
       "      <th>Item Name</th>\n",
       "      <th>Price</th>\n",
       "    </tr>\n",
       "  </thead>\n",
       "  <tbody>\n",
       "    <tr>\n",
       "      <th>0</th>\n",
       "      <td>0</td>\n",
       "      <td>Lisim78</td>\n",
       "      <td>20</td>\n",
       "      <td>Male</td>\n",
       "      <td>108</td>\n",
       "      <td>Extraction, Quickblade Of Trembling Hands</td>\n",
       "      <td>3.53</td>\n",
       "    </tr>\n",
       "    <tr>\n",
       "      <th>1</th>\n",
       "      <td>1</td>\n",
       "      <td>Lisovynya38</td>\n",
       "      <td>40</td>\n",
       "      <td>Male</td>\n",
       "      <td>143</td>\n",
       "      <td>Frenzied Scimitar</td>\n",
       "      <td>1.56</td>\n",
       "    </tr>\n",
       "    <tr>\n",
       "      <th>2</th>\n",
       "      <td>2</td>\n",
       "      <td>Ithergue48</td>\n",
       "      <td>24</td>\n",
       "      <td>Male</td>\n",
       "      <td>92</td>\n",
       "      <td>Final Critic</td>\n",
       "      <td>4.88</td>\n",
       "    </tr>\n",
       "    <tr>\n",
       "      <th>3</th>\n",
       "      <td>3</td>\n",
       "      <td>Chamassasya86</td>\n",
       "      <td>24</td>\n",
       "      <td>Male</td>\n",
       "      <td>100</td>\n",
       "      <td>Blindscythe</td>\n",
       "      <td>3.27</td>\n",
       "    </tr>\n",
       "    <tr>\n",
       "      <th>4</th>\n",
       "      <td>4</td>\n",
       "      <td>Iskosia90</td>\n",
       "      <td>23</td>\n",
       "      <td>Male</td>\n",
       "      <td>131</td>\n",
       "      <td>Fury</td>\n",
       "      <td>1.44</td>\n",
       "    </tr>\n",
       "  </tbody>\n",
       "</table>\n",
       "</div>"
      ],
      "text/plain": [
       "   Purchase ID             SN  Age Gender  Item ID  \\\n",
       "0            0        Lisim78   20   Male      108   \n",
       "1            1    Lisovynya38   40   Male      143   \n",
       "2            2     Ithergue48   24   Male       92   \n",
       "3            3  Chamassasya86   24   Male      100   \n",
       "4            4      Iskosia90   23   Male      131   \n",
       "\n",
       "                                   Item Name  Price  \n",
       "0  Extraction, Quickblade Of Trembling Hands   3.53  \n",
       "1                          Frenzied Scimitar   1.56  \n",
       "2                               Final Critic   4.88  \n",
       "3                                Blindscythe   3.27  \n",
       "4                                       Fury   1.44  "
      ]
     },
     "execution_count": 22,
     "metadata": {},
     "output_type": "execute_result"
    }
   ],
   "source": [
    "# Dependencies and Setup\n",
    "import pandas as pd\n",
    "import numpy as np\n",
    "\n",
    "# File to Load (Remember to Change These)\n",
    "file = \"Resources/purchase_data.csv\"\n",
    "\n",
    "# Read Purchasing File and store into Pandas data frame\n",
    "purchase_data = pd.read_csv(file)\n",
    "purchase_data.head()"
   ]
  },
  {
   "cell_type": "markdown",
   "metadata": {},
   "source": [
    "## Player Count"
   ]
  },
  {
   "cell_type": "markdown",
   "metadata": {},
   "source": [
    "* Display the total number of players\n"
   ]
  },
  {
   "cell_type": "code",
   "execution_count": 15,
   "metadata": {},
   "outputs": [
    {
     "data": {
      "text/html": [
       "<div>\n",
       "<style scoped>\n",
       "    .dataframe tbody tr th:only-of-type {\n",
       "        vertical-align: middle;\n",
       "    }\n",
       "\n",
       "    .dataframe tbody tr th {\n",
       "        vertical-align: top;\n",
       "    }\n",
       "\n",
       "    .dataframe thead th {\n",
       "        text-align: right;\n",
       "    }\n",
       "</style>\n",
       "<table border=\"1\" class=\"dataframe\">\n",
       "  <thead>\n",
       "    <tr style=\"text-align: right;\">\n",
       "      <th></th>\n",
       "      <th>Total Players</th>\n",
       "    </tr>\n",
       "  </thead>\n",
       "  <tbody>\n",
       "    <tr>\n",
       "      <th>0</th>\n",
       "      <td>576</td>\n",
       "    </tr>\n",
       "  </tbody>\n",
       "</table>\n",
       "</div>"
      ],
      "text/plain": [
       "   Total Players\n",
       "0            576"
      ]
     },
     "execution_count": 15,
     "metadata": {},
     "output_type": "execute_result"
    }
   ],
   "source": [
    "number_players = len(purchase_data[\"SN\"].value_counts())\n",
    "player_count = pd.DataFrame({\"Total Players\":[number_players]})\n",
    "player_count"
   ]
  },
  {
   "cell_type": "markdown",
   "metadata": {},
   "source": [
    "## Purchasing Analysis (Total)"
   ]
  },
  {
   "cell_type": "markdown",
   "metadata": {},
   "source": [
    "* Run basic calculations to obtain number of unique items, average price, etc.\n",
    "\n",
    "\n",
    "* Create a summary data frame to hold the results\n",
    "\n",
    "\n",
    "* Optional: give the displayed data cleaner formatting\n",
    "\n",
    "\n",
    "* Display the summary data frame\n"
   ]
  },
  {
   "cell_type": "code",
   "execution_count": 21,
   "metadata": {
    "scrolled": true
   },
   "outputs": [
    {
     "ename": "SyntaxError",
     "evalue": "invalid syntax (<ipython-input-21-dfc400f11318>, line 2)",
     "output_type": "error",
     "traceback": [
      "\u001b[0;36m  File \u001b[0;32m\"<ipython-input-21-dfc400f11318>\"\u001b[0;36m, line \u001b[0;32m2\u001b[0m\n\u001b[0;31m    averageprice = purchase_data_df[\"Price\"].mean()\u001b[0m\n\u001b[0m    ^\u001b[0m\n\u001b[0;31mSyntaxError\u001b[0m\u001b[0;31m:\u001b[0m invalid syntax\n"
     ]
    }
   ],
   "source": [
    "number_of_unique_items = len((purchase_data[\"Item ID\"].unique()\n",
    "average_price = purchase_data[\"Price\"].mean()\n",
    "number_of_purchases = len(purchase_data[\"Item Name\"]).count()\n",
    "total_revenue = purchase_data[\"Price\"].sum()\n",
    "\n",
    "summary_df = pd.DataFrame({\"Number of Unique Items\": [number_of_unique_items],\n",
    "                         \"Average Price\": [average_price],\n",
    "                         \"Number of Purchases\": [number_of_purchases],\n",
    "                         \"Total Revenue\": [total_revenue]})\n",
    "    \n",
    "summary_df.style.format({'Average Price':\"${:,.2f}\"}),\n",
    "                          'Total Revenue': \"$\"{:,.2f\"})"
   ]
  },
  {
   "cell_type": "markdown",
   "metadata": {},
   "source": [
    "## Gender Demographics"
   ]
  },
  {
   "cell_type": "markdown",
   "metadata": {},
   "source": [
    "* Percentage and Count of Male Players\n",
    "\n",
    "\n",
    "* Percentage and Count of Female Players\n",
    "\n",
    "\n",
    "* Percentage and Count of Other / Non-Disclosed\n",
    "\n",
    "\n"
   ]
  },
  {
   "cell_type": "code",
   "execution_count": 20,
   "metadata": {},
   "outputs": [
    {
     "ename": "SyntaxError",
     "evalue": "invalid syntax (<ipython-input-20-5ef39d1cef6a>, line 5)",
     "output_type": "error",
     "traceback": [
      "\u001b[0;36m  File \u001b[0;32m\"<ipython-input-20-5ef39d1cef6a>\"\u001b[0;36m, line \u001b[0;32m5\u001b[0m\n\u001b[0;31m    genders = genders.groupby([\"Gender\"].count()\u001b[0m\n\u001b[0m    ^\u001b[0m\n\u001b[0;31mSyntaxError\u001b[0m\u001b[0;31m:\u001b[0m invalid syntax\n"
     ]
    }
   ],
   "source": [
    "genders = purchase_data.groupby([\"Gender\", \"SN\"])[\"Gender\", \"SN\"].count()\n",
    "genders.columns = [\"sa\", \"sd\"]\n",
    "genders = genders.reset_index()\n",
    "genders = genders.drop(columns=\"sa\",\"sd])\"\n",
    "genders = genders.groupby([\"Gender\"].count()\n",
    "del genders.index.name\n",
    "genders.columns = [\"Total Count\"]\n",
    "genders[\"Percentage of Players\"] = np.around((genders[\"Total Count\"]/num_players)*100, decimals=2)\n",
    "genders = genders.sort_values(by=[\"Total Count\"],  ascending=False).head()"
   ]
  },
  {
   "cell_type": "markdown",
   "metadata": {},
   "source": [
    "\n",
    "## Purchasing Analysis (Gender)"
   ]
  },
  {
   "cell_type": "markdown",
   "metadata": {},
   "source": [
    "* Run basic calculations to obtain purchase count, avg. purchase price, avg. purchase total per person etc. by gender\n",
    "\n",
    "\n",
    "\n",
    "\n",
    "* Create a summary data frame to hold the results\n",
    "\n",
    "\n",
    "* Optional: give the displayed data cleaner formatting\n",
    "\n",
    "\n",
    "* Display the summary data frame"
   ]
  },
  {
   "cell_type": "code",
   "execution_count": null,
   "metadata": {},
   "outputs": [],
   "source": [
    "gender_analysis = purchase_data.groupby(\"Gender\").agg({\"Purchase ID\": \"count\", \"Price\":[\"mean\",\"sum\"], \"Gender\": \"count\"})\n",
    "\n",
    "gender_analysis.columns = gender_analysis.columns.droplevel()\n",
    "\n",
    "gender_analysis.columns = [\"Purchase Count\", \"Average Purchase Price\", \"Total Purchase Value\", \"Persons by Purchase\"]\n",
    "\n",
    "gender_analysis = pd.merge(gender_analysis, genders, left_index=True, right_index=True)\n",
    "\n",
    "gender_analysis[\"Average Total Purchase per Person\"] =  gender_analysis[\"Total Purchase Value\"]/gender_analysis[\"Total Count\"]\n",
    "\n",
    "gender_analysis[\"Average Purchase Price\"] =  gender_analysis.apply(lambda x: \"${:,.2f}\".format(x[\"Average Purchase Price\"]), axis=1)Total Purchase Value\"]/gender_analysis[\"Total Count\"]\n",
    "\n",
    "gender_analysis[\"Total Purchase Value\"] =  gender_analysis.apply(lambda x: \"${:,.2f}\".format(x[\"Total Purchase Value\"]), axis=1)Total Purchase Value\"]/gender_analysis[\"Total Count\"]\n",
    "\n",
    "gender_analysis[\"Average Total Purchase per Person\"] =  gender_analysis.apply(lambda x: \"${:,.2f}\".format(x[\"Average Total Purchase per Person\"]), axis=1)Total Purchase Value\"]/gender_analysis[\"Total Count\"]\n",
    "\n",
    "\n",
    "\n",
    "\n",
    "gender_report = gender_analysis[[\"Purchase Coint\", \"Average Purchase Price\", \"Total Puchase Value\", \"Average Total Purchase per Person\"]]\n",
    "\n",
    "gender_report"
   ]
  },
  {
   "cell_type": "markdown",
   "metadata": {},
   "source": [
    "## Age Demographics"
   ]
  },
  {
   "cell_type": "markdown",
   "metadata": {},
   "source": [
    "* Establish bins for ages\n",
    "\n",
    "\n",
    "* Categorize the existing players using the age bins. Hint: use pd.cut()\n",
    "\n",
    "\n",
    "* Calculate the numbers and percentages by age group\n",
    "\n",
    "\n",
    "* Create a summary data frame to hold the results\n",
    "\n",
    "\n",
    "* Optional: round the percentage column to two decimal points\n",
    "\n",
    "\n",
    "* Display Age Demographics Table\n"
   ]
  },
  {
   "cell_type": "code",
   "execution_count": null,
   "metadata": {},
   "outputs": [],
   "source": [
    "bins = [0, 9, 14, 19, 24, 29, 34, 39, 1000]\n",
    "\n",
    "groups_names ['<10', '10-14', '15-19', '20,24', '25-29', '30-34', '35-39', '40 +'] \n",
    "\n",
    "pd.cut(purchase_data_df[\"Age\"], bins, labels=group_names)\n",
    "purchase_data_df[\"Age Group\"] =pd.cut(purchase_data_df[\"Age\"], bins, labels=group_names)\n",
    "\n",
    "\n",
    "\n",
    "\n"
   ]
  },
  {
   "cell_type": "markdown",
   "metadata": {},
   "source": [
    "## Purchasing Analysis (Age)"
   ]
  },
  {
   "cell_type": "markdown",
   "metadata": {},
   "source": [
    "* Bin the purchase_data data frame by age\n",
    "\n",
    "\n",
    "* Run basic calculations to obtain purchase count, avg. purchase price, avg. purchase total per person etc. in the table below\n",
    "\n",
    "\n",
    "* Create a summary data frame to hold the results\n",
    "\n",
    "\n",
    "* Optional: give the displayed data cleaner formatting\n",
    "\n",
    "\n",
    "* Display the summary data frame"
   ]
  },
  {
   "cell_type": "code",
   "execution_count": null,
   "metadata": {},
   "outputs": [],
   "source": [
    "bins = [0, 9, 14, 19, 24, 29, 34, 39, 1000]\n",
    "\n",
    "age_data = purchase_data.groupby[[\"Age\", \"Purchase ID\", \"Price\"]]\n",
    "\n",
    "bins = pd.cut(purchase_data[\"Age\"], bins, labels=[\"<10\", \"10-14\", \"15-19\", \"20-24\", \"25-29\", \"30-34\", \"35-39\", \"40+\"])\n",
    "\n",
    "age_data = age_data.groupby(bins).agg({\"Purchase ID\": 'count', \"Price':['sum', 'mean' ]})\n",
    "\n",
    "age_data.columns = age_data.columns.droplevel(1)\n",
    "                                                 \n",
    "age_data.columns = [\"Purchase Count\", \"Total Purchase Value\", \"Average Price\"]\n",
    "\n",
    "age_data = pd.merge(age_data, age_data[['Total Count\", \"Percentage of Players\"]], left-index=True, right_index=True)                                               \n",
    "\n",
    "age_data['Average Total Purchase per Person'] = age_data[\"Total Purchase Value\"]/age_data['Total Count']                                         \n",
    "                                                 \n",
    "                                                 \n",
    "age_data[\"Average Total Purchase per Person\"] =  age_data[\"Total Purchase Value\"]\n",
    "\n",
    "age_data[\"Average Purchase Price\"] = age_data(lambda x: \"${:,.2f}\".format(x[\"Average Purchase Price\"]), axis= 1\n",
    "\n",
    "age_data[\"Total Purchase Value\"] =  age_data.apply(lambda x: \"${:,.2f}\".format(x[\"Total Purchase Value\"]), axis=1)\n",
    "                                                   \n",
    "                                                    \n",
    "age_data_report = age_data[['Purchase Count', 'Average Purchase Prie', ' Total Purchase Value', 'Average Total Purchase per Person']]                                                   \n",
    "                                                        \n",
    "                                                                                                 \n",
    "age_data_report\n",
    "                               \n",
    "\n",
    "\n"
   ]
  },
  {
   "cell_type": "markdown",
   "metadata": {},
   "source": [
    "## Top Spenders"
   ]
  },
  {
   "cell_type": "markdown",
   "metadata": {},
   "source": [
    "* Run basic calculations to obtain the results in the table below\n",
    "\n",
    "\n",
    "* Create a summary data frame to hold the results\n",
    "\n",
    "\n",
    "* Sort the total purchase value column in descending order\n",
    "\n",
    "\n",
    "* Optional: give the displayed data cleaner formatting\n",
    "\n",
    "\n",
    "* Display a preview of the summary data frame\n",
    "\n"
   ]
  },
  {
   "cell_type": "code",
   "execution_count": null,
   "metadata": {},
   "outputs": [],
   "source": [
    "top_spenders = purchase-data.groupby(['SN'].agg({'Purchase ID': 'count', 'Price': ['meand', 'sum']})\n",
    "\n",
    "top_spenders.columns = top.spenders.columns.droplevel(1)\n",
    "                                    \n",
    "top_spenders.columns = ['Purchase Count', ' Average Purchase Price', 'Total Purchase Value']\n",
    "                                    \n",
    "top_spenders = top_spenders.sort_values('Total Purchase Values', ascending=False)\n",
    "                                    \n",
    "\n",
    "top_spenders[\"Average Purchase Price\"] = top_spenders.apply(lambda x: \"${:,.2f}\".format(x[\"Average Purchase Price\"]), axis= 1)\n",
    "\n",
    "top_spenders[\"Total Purchase Value\"] = top-spenders.apply(lambda x: \"${:,.2f}\".format(x[\"Total Purchase Value\"]), axis=1)\n",
    "                                                                                    \n",
    "\n",
    "                                    \n",
    "top_spenders.head()"
   ]
  },
  {
   "cell_type": "markdown",
   "metadata": {},
   "source": [
    "## Most Popular Items"
   ]
  },
  {
   "cell_type": "markdown",
   "metadata": {},
   "source": [
    "* Retrieve the Item ID, Item Name, and Item Price columns\n",
    "\n",
    "\n",
    "* Group by Item ID and Item Name. Perform calculations to obtain purchase count, item price, and total purchase value\n",
    "\n",
    "\n",
    "* Create a summary data frame to hold the results\n",
    "\n",
    "\n",
    "* Sort the purchase count column in descending order\n",
    "\n",
    "\n",
    "* Optional: give the displayed data cleaner formatting\n",
    "\n",
    "\n",
    "* Display a preview of the summary data frame\n",
    "\n"
   ]
  },
  {
   "cell_type": "code",
   "execution_count": null,
   "metadata": {},
   "outputs": [],
   "source": [
    "sales_by_item = purchase-data.groupby(['Item ID', 'Item Name'].agg({'Purchase ID': 'count', 'Price': ['max', 'sum']})\n",
    "\n",
    "sales-by_item.cloumns = sales-by_item.cloumns.droplevel(1)\n",
    "                                    \n",
    "sales-by_item.cloumns = ['Purchase Count', 'Item Price', 'Total Purchase Value']\n",
    "                                    \n",
    "popular_items = sales-by_item.sort_values('Purchase Count', ascending=False)\n",
    "                                    \n",
    "\n",
    "popular_items['Item Price'] = popular_items.apply(lambda x: \"${:,.2f}\".format(x[\"Item Price\"]), axis= 1)\n",
    "\n",
    "popular_items[\"Total Purchase Value\"] = popular_items.apply(lambda x: \"${:,.2f}\".format(x[\"Total Purchase Value\"]), axis=1)\n",
    "                                                                                    \n",
    "\n",
    "                                    \n",
    "popular_items.head()"
   ]
  },
  {
   "cell_type": "markdown",
   "metadata": {},
   "source": [
    "## Most Profitable Items"
   ]
  },
  {
   "cell_type": "markdown",
   "metadata": {},
   "source": [
    "* Sort the above table by total purchase value in descending order\n",
    "\n",
    "\n",
    "* Optional: give the displayed data cleaner formatting\n",
    "\n",
    "\n",
    "* Display a preview of the data frame\n",
    "\n"
   ]
  },
  {
   "cell_type": "code",
   "execution_count": null,
   "metadata": {
    "scrolled": true
   },
   "outputs": [],
   "source": [
    "profitable_items = sales-by_item.sort_values('Total Purchase Value', ascending=False)\n",
    "                                    \n",
    "\n",
    "profitable_items['Item Price'] = profitable_items.apply(lambda x: \"${:,.2f}\".format(x[\"Item Price\"]), axis= 1)\n",
    "\n",
    "profitable_items[\"Total Purchase Value\"] = profitable_items.apply(lambda x: \"${:,.2f}\".format(x[\"Total Purchase Value\"]), axis=1)\n",
    "                                                                                    \n",
    "\n",
    "                                    \n",
    "profitable_items.head()"
   ]
  },
  {
   "cell_type": "code",
   "execution_count": null,
   "metadata": {},
   "outputs": [],
   "source": []
  }
 ],
 "metadata": {
  "anaconda-cloud": {},
  "kernel_info": {
   "name": "python3"
  },
  "kernelspec": {
   "display_name": "Python [conda env:PythonData] *",
   "language": "python",
   "name": "conda-env-PythonData-py"
  },
  "language_info": {
   "codemirror_mode": {
    "name": "ipython",
    "version": 3
   },
   "file_extension": ".py",
   "mimetype": "text/x-python",
   "name": "python",
   "nbconvert_exporter": "python",
   "pygments_lexer": "ipython3",
   "version": "3.8.5"
  },
  "latex_envs": {
   "LaTeX_envs_menu_present": true,
   "autoclose": false,
   "autocomplete": true,
   "bibliofile": "biblio.bib",
   "cite_by": "apalike",
   "current_citInitial": 1,
   "eqLabelWithNumbers": true,
   "eqNumInitial": 1,
   "hotkeys": {
    "equation": "Ctrl-E",
    "itemize": "Ctrl-I"
   },
   "labels_anchors": false,
   "latex_user_defs": false,
   "report_style_numbering": false,
   "user_envs_cfg": false
  },
  "nteract": {
   "version": "0.2.0"
  }
 },
 "nbformat": 4,
 "nbformat_minor": 2
}
